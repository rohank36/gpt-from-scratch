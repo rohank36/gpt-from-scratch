{
 "cells": [
  {
   "cell_type": "code",
   "execution_count": 1,
   "metadata": {},
   "outputs": [],
   "source": [
    "import torch\n",
    "import torch.nn as nn \n",
    "from torch.nn import functional as F"
   ]
  },
  {
   "cell_type": "code",
   "execution_count": 3,
   "metadata": {},
   "outputs": [],
   "source": [
    "#Load file\n",
    "with open ('input.txt','r',encoding='utf-8') as f:\n",
    "    text = f.read()\n",
    "chars = sorted(list(set(text)))\n",
    "vocab_size = len(chars)"
   ]
  },
  {
   "cell_type": "code",
   "execution_count": 4,
   "metadata": {},
   "outputs": [],
   "source": [
    "#Tokenizer -> Mapping tokens to integers (Token = 1 character in our vocab)\n",
    "stoi = {ch:i for i,ch in enumerate(chars)}\n",
    "itos = {i:ch for i,ch in enumerate(chars)}\n",
    "encode = lambda s: [stoi[c] for c in s] # str -> [int]\n",
    "decode = lambda l: ''.join([itos[i] for i in l]) # [int] -> str"
   ]
  },
  {
   "cell_type": "code",
   "execution_count": 5,
   "metadata": {},
   "outputs": [
    {
     "data": {
      "text/plain": [
       "<torch._C.Generator at 0x21971d07930>"
      ]
     },
     "execution_count": 5,
     "metadata": {},
     "output_type": "execute_result"
    }
   ],
   "source": [
    "#Hyperparameters\n",
    "batch_size = 64\n",
    "block_size = 256\n",
    "emb_dim = 384\n",
    "n_head = 6\n",
    "vocab_size = len(chars)\n",
    "max_iters = 5000\n",
    "eval_interval = 500\n",
    "eval_iters = 200\n",
    "lr = 3e-4\n",
    "device = 'cuda' if torch.cuda.is_available() else 'cpu'\n",
    "n_layers = 6\n",
    "dropout = 0.2\n",
    "#----------------\n",
    "torch.manual_seed(1337)"
   ]
  },
  {
   "cell_type": "code",
   "execution_count": 6,
   "metadata": {},
   "outputs": [],
   "source": [
    "#Tokenize Data\n",
    "data = torch.tensor(encode(text), dtype=torch.long)\n",
    "\n",
    "#Split data -> train/validation \n",
    "n = int(len(data)*0.9)\n",
    "train_data = data[:n]\n",
    "val_data = data[n:]"
   ]
  },
  {
   "cell_type": "code",
   "execution_count": 7,
   "metadata": {},
   "outputs": [],
   "source": [
    "#Data Loading\n",
    "def get_batch(split):\n",
    "    data = train_data if split=='train' else val_data\n",
    "    ix = torch.randint(len(data) - block_size, (batch_size,)) #random batch size sample from data\n",
    "    x = torch.stack([data[i:i+block_size] for i in ix]) #original\n",
    "    y = torch.stack([data[i+1:i+block_size+1] for i in ix]) #target\n",
    "    x, y = x.to(device), y.to(device)\n",
    "    return x,y"
   ]
  },
  {
   "cell_type": "code",
   "execution_count": 8,
   "metadata": {},
   "outputs": [],
   "source": [
    "#Metrics during training\n",
    "@torch.no_grad()\n",
    "def estimate_loss():\n",
    "    out = {}\n",
    "    model.eval()\n",
    "    for split in ['train', 'val']:\n",
    "        losses = torch.zeros(eval_iters)\n",
    "        for k in range(eval_iters):\n",
    "            X, Y = get_batch(split)\n",
    "            logits, loss = model(X, Y)\n",
    "            losses[k] = loss.item()\n",
    "        out[split] = losses.mean()\n",
    "    model.train()\n",
    "    return out"
   ]
  },
  {
   "cell_type": "code",
   "execution_count": 9,
   "metadata": {},
   "outputs": [],
   "source": [
    "class Head(nn.Module):\n",
    "    \"\"\" Single Head of Masked Self-Attention \"\"\"\n",
    "    def __init__(self, head_dim):\n",
    "        super().__init__()\n",
    "        self.WQ = nn.Linear(emb_dim, head_dim, bias=False) #query matrix\n",
    "        self.WK = nn.Linear(emb_dim, head_dim, bias=False) #key matrix\n",
    "        self.WV = nn.Linear(emb_dim, head_dim, bias=False) #value matrix\n",
    "        self.register_buffer('tril', torch.tril(torch.ones(block_size, block_size)))\n",
    "        self.dropout = nn.Dropout(dropout)\n",
    "\n",
    "    def forward(self, inputs):\n",
    "        query = self.WQ(inputs) #(4,8,16) = (batch_size, block_size, head_dim)\n",
    "        key = self.WK(inputs) #(4,8,16) = (batch_size, block_size, head_dim)\n",
    "        value = self.WV(inputs) #(4,8,16) = (batch_size, block_size, head_dim)\n",
    "        attention_matrix = query @ key.transpose(-2,-1) / key.shape[-1]**-0.5 #(4,8,8) = (batch_size, block_size, block_size)\n",
    "        #tril = torch.tril(torch.ones(block_size,block_size))\n",
    "        attention_matrix = attention_matrix.masked_fill(self.tril[:block_size,:block_size] == 0, float('-inf'))\n",
    "        attention_weights = F.softmax(attention_matrix, dim=-1) #softmax along the cols\n",
    "        attention_weights = self.dropout(attention_weights)\n",
    "        outputs = attention_weights @ value #(4,8,16) = (batch_size, block_size, head_dim)\n",
    "        return outputs"
   ]
  },
  {
   "cell_type": "code",
   "execution_count": 13,
   "metadata": {},
   "outputs": [],
   "source": [
    "class MultiHead(nn.Module):\n",
    "    \"\"\" Multiple Heads of Masked Self-Attention in parallel \"\"\"\n",
    "    def __init__(self, n_head, head_dim, emb_dim):\n",
    "        super().__init__()\n",
    "        self.heads = nn.ModuleList([Head(head_dim) for _ in range(n_head)])\n",
    "        self.proj = nn.Linear(head_dim * n_head, emb_dim)\n",
    "        self.dropout = nn.Dropout(dropout)\n",
    "\n",
    "    def forward(self, x):\n",
    "        output = torch.cat([h(x) for h in self.heads], dim=-1) #(4,8,32) = (batch_size, block_size, emb_dim)\n",
    "        output = self.dropout(self.proj(output)) #(4,8,32) = (batch_size, block_size, emb_dim)\n",
    "        return output"
   ]
  },
  {
   "cell_type": "code",
   "execution_count": 14,
   "metadata": {},
   "outputs": [],
   "source": [
    "class FeedForwardNetwork(nn.Module):\n",
    "    \"\"\" Multi Layer Perceptron with ReLU \"\"\"\n",
    "    def __init__(self, emb_dim):\n",
    "        super().__init__()\n",
    "        self.net = nn.Sequential(\n",
    "            nn.Linear(emb_dim,4*emb_dim),\n",
    "            nn.ReLU(),\n",
    "            nn.Linear(4*emb_dim, emb_dim),\n",
    "            nn.Dropout(dropout)\n",
    "        )\n",
    "    \n",
    "    def forward(self,x):\n",
    "        return self.net(x)"
   ]
  },
  {
   "cell_type": "code",
   "execution_count": 15,
   "metadata": {},
   "outputs": [],
   "source": [
    "class DecoderBlock(nn.Module):\n",
    "    \"\"\" Transformer Decoder Block \"\"\"\n",
    "    def __init__(self, emb_dim, n_head):\n",
    "        super().__init__()\n",
    "        head_dim = emb_dim // n_head\n",
    "        self.self_attention = MultiHead(n_head, head_dim, emb_dim)\n",
    "        self.feed_forward = FeedForwardNetwork(emb_dim)\n",
    "        self.layer1_norm = nn.LayerNorm(emb_dim)\n",
    "        self.layer2_norm = nn.LayerNorm(emb_dim)\n",
    "    \n",
    "    def forward(self, x):\n",
    "        x = x + self.self_attention(self.layer1_norm(x)) # Pre Layer Norm implementation \n",
    "        x = x + self.feed_forward(self.layer2_norm(x))\n",
    "        return x #(4,8,32) = (batch_size, block_size, emb_dim)"
   ]
  },
  {
   "cell_type": "code",
   "execution_count": 16,
   "metadata": {},
   "outputs": [],
   "source": [
    "class GPTLanguageModel(nn.Module):\n",
    "    def __init__(self):\n",
    "        super().__init__()\n",
    "        self.token_emb_table = nn.Embedding(vocab_size, emb_dim)\n",
    "        self.pos_emb_table = nn.Embedding(block_size, emb_dim)\n",
    "        self.blocks = nn.Sequential(*[DecoderBlock(emb_dim, n_head) for _ in range(n_layers)])\n",
    "        self.layerFinal_norm = nn.LayerNorm(emb_dim) # Following OpenAIs GPT implementation\n",
    "        self.final_linear = nn.Linear(emb_dim, vocab_size)\n",
    "        self.apply(self._init_weights)\n",
    "\n",
    "    def _init_weights(self, module):\n",
    "        if isinstance(module, nn.Linear):\n",
    "            torch.nn.init.normal_(module.weight, mean=0.0, std=0.02)\n",
    "            if module.bias is not None:\n",
    "                torch.nn.init.zeros_(module.bias)\n",
    "        elif isinstance(module, nn.Embedding):\n",
    "            torch.nn.init.normal_(module.weight, mean=0.0, std=0.02)\n",
    "\n",
    "    def forward(self, inputs, targets=None):\n",
    "        tok_emb = self.token_emb_table(inputs)\n",
    "        pos_emb = self.pos_emb_table(torch.arange(block_size, device=device)) #(block_size, emb_dim)\n",
    "        x = tok_emb + pos_emb #(batch_size, block_size, emb_dim)\n",
    "        x = self.blocks(x) #(batch_size, block_size, emb_dim)\n",
    "        x = self.layerFinal_norm(x) #(batch_size, block_size, emb_dim)\n",
    "        logits = self.final_linear(x) #(batch_size, block_size, vocab_size)\n",
    "        \n",
    "        if targets is None:\n",
    "            loss = None\n",
    "        else:\n",
    "            B,T,C = logits.shape\n",
    "            logits = logits.view(B*T, C) #Reshaping to fit pytorch cross_entropy expected inputs shape\n",
    "            targets = targets.view(B*T)\n",
    "            loss = F.cross_entropy(logits, targets)\n",
    "\n",
    "        return logits, loss\n",
    "    \n",
    "    def generate(self, inputs, max_new_tokens):\n",
    "        for _ in range (max_new_tokens):\n",
    "            inputs_cond = inputs[:, -block_size:] #Context is the last block_size of tokens\n",
    "            logits, loss = self(inputs_cond)\n",
    "            logits = logits[:, -1, :] #(batch_size, emb_dim)\n",
    "            probs = F.softmax(logits, dim=-1) #(batch_size, emb_dim)\n",
    "            next = torch.multinomial(probs, num_samples=1) #Sample from prob distribution. (batch_size, 1)\n",
    "            inputs = torch.cat((inputs, next), dim=1) #(batch_size, block_size + 1)\n",
    "        return inputs"
   ]
  },
  {
   "cell_type": "code",
   "execution_count": 17,
   "metadata": {},
   "outputs": [
    {
     "name": "stdout",
     "output_type": "stream",
     "text": [
      "10.788929 M parameters\n"
     ]
    }
   ],
   "source": [
    "model = GPTLanguageModel()\n",
    "m = model.to(device)\n",
    "print(sum(p.numel() for p in m.parameters())/1e6, 'M parameters')\n",
    "optimizer = torch.optim.AdamW(model.parameters(), lr=lr)"
   ]
  },
  {
   "cell_type": "code",
   "execution_count": 18,
   "metadata": {},
   "outputs": [
    {
     "name": "stdout",
     "output_type": "stream",
     "text": [
      "step 0: train loss 4.2106, val loss 4.2140\n",
      "step 500: train loss 2.4713, val loss 2.4948\n",
      "step 1000: train loss 2.5205, val loss 2.5309\n",
      "step 1500: train loss 2.5385, val loss 2.5436\n"
     ]
    },
    {
     "ename": "KeyboardInterrupt",
     "evalue": "",
     "output_type": "error",
     "traceback": [
      "\u001b[1;31m---------------------------------------------------------------------------\u001b[0m",
      "\u001b[1;31mKeyboardInterrupt\u001b[0m                         Traceback (most recent call last)",
      "Cell \u001b[1;32mIn[18], line 9\u001b[0m\n\u001b[0;32m      6\u001b[0m     \u001b[38;5;28mprint\u001b[39m(\u001b[38;5;124mf\u001b[39m\u001b[38;5;124m\"\u001b[39m\u001b[38;5;124mstep \u001b[39m\u001b[38;5;132;01m{\u001b[39;00m\u001b[38;5;28miter\u001b[39m\u001b[38;5;132;01m}\u001b[39;00m\u001b[38;5;124m: train loss \u001b[39m\u001b[38;5;132;01m{\u001b[39;00mlosses[\u001b[38;5;124m'\u001b[39m\u001b[38;5;124mtrain\u001b[39m\u001b[38;5;124m'\u001b[39m]\u001b[38;5;132;01m:\u001b[39;00m\u001b[38;5;124m.4f\u001b[39m\u001b[38;5;132;01m}\u001b[39;00m\u001b[38;5;124m, val loss \u001b[39m\u001b[38;5;132;01m{\u001b[39;00mlosses[\u001b[38;5;124m'\u001b[39m\u001b[38;5;124mval\u001b[39m\u001b[38;5;124m'\u001b[39m]\u001b[38;5;132;01m:\u001b[39;00m\u001b[38;5;124m.4f\u001b[39m\u001b[38;5;132;01m}\u001b[39;00m\u001b[38;5;124m\"\u001b[39m)\n\u001b[0;32m      8\u001b[0m \u001b[38;5;66;03m#Sample a batch of data\u001b[39;00m\n\u001b[1;32m----> 9\u001b[0m xb, yb \u001b[38;5;241m=\u001b[39m get_batch(\u001b[38;5;124m'\u001b[39m\u001b[38;5;124mtrain\u001b[39m\u001b[38;5;124m'\u001b[39m)\n\u001b[0;32m     11\u001b[0m \u001b[38;5;66;03m#Evaluate the loss\u001b[39;00m\n\u001b[0;32m     12\u001b[0m logits, loss \u001b[38;5;241m=\u001b[39m model(xb, yb)\n",
      "Cell \u001b[1;32mIn[7], line 7\u001b[0m, in \u001b[0;36mget_batch\u001b[1;34m(split)\u001b[0m\n\u001b[0;32m      5\u001b[0m x \u001b[38;5;241m=\u001b[39m torch\u001b[38;5;241m.\u001b[39mstack([data[i:i\u001b[38;5;241m+\u001b[39mblock_size] \u001b[38;5;28;01mfor\u001b[39;00m i \u001b[38;5;129;01min\u001b[39;00m ix]) \u001b[38;5;66;03m#original\u001b[39;00m\n\u001b[0;32m      6\u001b[0m y \u001b[38;5;241m=\u001b[39m torch\u001b[38;5;241m.\u001b[39mstack([data[i\u001b[38;5;241m+\u001b[39m\u001b[38;5;241m1\u001b[39m:i\u001b[38;5;241m+\u001b[39mblock_size\u001b[38;5;241m+\u001b[39m\u001b[38;5;241m1\u001b[39m] \u001b[38;5;28;01mfor\u001b[39;00m i \u001b[38;5;129;01min\u001b[39;00m ix]) \u001b[38;5;66;03m#target\u001b[39;00m\n\u001b[1;32m----> 7\u001b[0m x, y \u001b[38;5;241m=\u001b[39m x\u001b[38;5;241m.\u001b[39mto(device), y\u001b[38;5;241m.\u001b[39mto(device)\n\u001b[0;32m      8\u001b[0m \u001b[38;5;28;01mreturn\u001b[39;00m x,y\n",
      "\u001b[1;31mKeyboardInterrupt\u001b[0m: "
     ]
    }
   ],
   "source": [
    "#Training Loop\n",
    "for iter in range(max_iters):\n",
    "    #Eval loss on train and valid sets every once in a while\n",
    "    if iter % eval_interval == 0 or iter == max_iters - 1:\n",
    "        losses = estimate_loss()\n",
    "        print(f\"step {iter}: train loss {losses['train']:.4f}, val loss {losses['val']:.4f}\")\n",
    "\n",
    "    #Sample a batch of data\n",
    "    xb, yb = get_batch('train')\n",
    "\n",
    "    #Evaluate the loss\n",
    "    logits, loss = model(xb, yb)\n",
    "    optimizer.zero_grad(set_to_none=True)\n",
    "    loss.backward()\n",
    "    optimizer.step()\n"
   ]
  },
  {
   "cell_type": "code",
   "execution_count": null,
   "metadata": {},
   "outputs": [],
   "source": []
  }
 ],
 "metadata": {
  "kernelspec": {
   "display_name": "base",
   "language": "python",
   "name": "python3"
  },
  "language_info": {
   "codemirror_mode": {
    "name": "ipython",
    "version": 3
   },
   "file_extension": ".py",
   "mimetype": "text/x-python",
   "name": "python",
   "nbconvert_exporter": "python",
   "pygments_lexer": "ipython3",
   "version": "3.11.7"
  }
 },
 "nbformat": 4,
 "nbformat_minor": 2
}
