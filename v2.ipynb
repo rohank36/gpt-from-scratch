{
 "cells": [
  {
   "cell_type": "code",
   "execution_count": 1,
   "metadata": {},
   "outputs": [],
   "source": [
    "import torch\n",
    "import torch.nn as nn \n",
    "from torch.nn import functional as F"
   ]
  },
  {
   "cell_type": "code",
   "execution_count": 2,
   "metadata": {},
   "outputs": [],
   "source": [
    "#Load file\n",
    "with open ('input.txt','r',encoding='utf-8') as f:\n",
    "    text = f.read()\n",
    "chars = sorted(list(set(text)))\n",
    "vocab_size = len(chars)"
   ]
  },
  {
   "cell_type": "code",
   "execution_count": 3,
   "metadata": {},
   "outputs": [],
   "source": [
    "#Tokenizer -> Mapping tokens to integers (Token = 1 character in our vocab)\n",
    "stoi = {ch:i for i,ch in enumerate(chars)}\n",
    "itos = {i:ch for i,ch in enumerate(chars)}\n",
    "encode = lambda s: [stoi[c] for c in s] # str -> [int]\n",
    "decode = lambda l: ''.join([itos[i] for i in l]) # [int] -> str"
   ]
  },
  {
   "cell_type": "code",
   "execution_count": 119,
   "metadata": {},
   "outputs": [],
   "source": [
    "#Global Vars\n",
    "batch_size = 4\n",
    "block_size = 8\n",
    "emb_dim = 32\n",
    "n_head = 16\n",
    "head_dim = emb_dim//n_head\n",
    "vocab_size = len(chars)\n",
    "n_layers = 6"
   ]
  },
  {
   "cell_type": "code",
   "execution_count": 6,
   "metadata": {},
   "outputs": [],
   "source": [
    "#Tokenize Data\n",
    "data = torch.tensor(encode(text), dtype=torch.long)"
   ]
  },
  {
   "cell_type": "code",
   "execution_count": 7,
   "metadata": {},
   "outputs": [],
   "source": [
    "#Split data -> train/validation \n",
    "n = int(len(data)*0.9)\n",
    "train_data = data[:n]\n",
    "val_data = data[n:]"
   ]
  },
  {
   "cell_type": "code",
   "execution_count": 8,
   "metadata": {},
   "outputs": [],
   "source": [
    "#Get Batch\n",
    "def get_batch(split):\n",
    "    data = train_data if split=='train' else val_data\n",
    "    ix = torch.randint(len(data) - block_size, (batch_size,)) #random batch size sample from data\n",
    "    x = torch.stack([data[i:i+block_size] for i in ix]) #original\n",
    "    y = torch.stack([data[i+1:i+block_size+1] for i in ix]) #target\n",
    "    return x,y"
   ]
  },
  {
   "cell_type": "code",
   "execution_count": 36,
   "metadata": {},
   "outputs": [],
   "source": [
    "#Define Matrices \n",
    "WE = nn.Embedding(vocab_size,emb_dim) #embedding matrix\n",
    "#WP position embedding matrix  \n",
    "WU = nn.Linear(emb_dim, vocab_size) #unembedding matrix\n",
    "WQ = nn.Linear(emb_dim, head_dim, bias=False) #query matrix\n",
    "WK = nn.Linear(emb_dim, head_dim, bias=False) #key matrix\n",
    "WV = nn.Linear(emb_dim, head_dim, bias=False) #value matrix"
   ]
  },
  {
   "cell_type": "code",
   "execution_count": 41,
   "metadata": {},
   "outputs": [
    {
     "data": {
      "text/plain": [
       "torch.Size([4, 8, 32])"
      ]
     },
     "execution_count": 41,
     "metadata": {},
     "output_type": "execute_result"
    }
   ],
   "source": [
    "#Token Embeddings\n",
    "x,y = get_batch('train')\n",
    "emb_tokens = WE(x)\n",
    "emb_tokens.shape"
   ]
  },
  {
   "cell_type": "code",
   "execution_count": 100,
   "metadata": {},
   "outputs": [],
   "source": [
    "class Head(nn.Module): #Single Head of Masked Self-Attention\n",
    "    def __init__(self, head_dim):\n",
    "        super().__init__()\n",
    "        self.WQ = nn.Linear(emb_dim, head_dim, bias=False) #query matrix\n",
    "        self.WK = nn.Linear(emb_dim, head_dim, bias=False) #key matrix\n",
    "        self.WV = nn.Linear(emb_dim, head_dim, bias=False) #value matrix\n",
    "        self.register_buffer('tril', torch.tril(torch.ones(block_size, block_size)))\n",
    "\n",
    "    def forward(self, inputs):\n",
    "        query = self.WQ(inputs) #(4,8,16) = (batch_size, block_size, head_dim)\n",
    "        key = self.WK(inputs) #(4,8,16) = (batch_size, block_size, head_dim)\n",
    "        value = self.WV(inputs) #(4,8,16) = (batch_size, block_size, head_dim)\n",
    "        attention_matrix = query @ key.transpose(-2,-1) / key.shape[-1]**-0.5 #(4,8,8) = (batch_size, block_size, block_size)\n",
    "        #tril = torch.tril(torch.ones(block_size,block_size))\n",
    "        attention_matrix = attention_matrix.masked_fill(self.tril[:block_size,:block_size] == 0, float('-inf'))\n",
    "        attention_weights = F.softmax(attention_matrix, dim=-1) #softmax along the cols\n",
    "        outputs = attention_weights @ value #(4,8,16) = (batch_size, block_size, head_dim)\n",
    "        return outputs\n",
    "    \n",
    "class MultiHead(nn.Module):\n",
    "    def __init__(self, n_head, head_dim, emb_dim):\n",
    "        super().__init__()\n",
    "        self.heads = nn.ModuleList([Head(head_dim) for _ in range(n_head)])\n",
    "        self.proj = nn.Linear(head_dim * n_head, emb_dim)\n",
    "\n",
    "    def forward(self, x):\n",
    "        output = torch.cat([h(x) for h in self.heads], dim=-1) #(4,8,32) = (batch_size, block_size, emb_dim)\n",
    "        output = self.proj(output) #(4,8,32) = (batch_size, block_size, emb_dim)\n",
    "        return output"
   ]
  },
  {
   "cell_type": "code",
   "execution_count": 101,
   "metadata": {},
   "outputs": [],
   "source": [
    "h = MultiHead(n_head, head_dim, emb_dim)\n",
    "out = h(emb_tokens)"
   ]
  },
  {
   "cell_type": "code",
   "execution_count": 107,
   "metadata": {},
   "outputs": [],
   "source": [
    "#Add & Norm\n",
    "idx = emb_tokens + out #Add original input to attention output (4,8,32) = (batch_size, block_size, emb_dim)\n",
    "idx = nn.LayerNorm(emb_dim)"
   ]
  },
  {
   "cell_type": "code",
   "execution_count": 110,
   "metadata": {},
   "outputs": [],
   "source": [
    "class FeedForwardNetwork(nn.Module):\n",
    "    def __init__(self, emb_dim):\n",
    "        super().__init__()\n",
    "        self.net = nn.Sequential(\n",
    "            nn.Linear(emb_dim,4*emb_dim),\n",
    "            nn.ReLU(),\n",
    "            nn.Linear(4*emb_dim, emb_dim)\n",
    "        )\n",
    "    \n",
    "    def forward(self,x):\n",
    "        return self.net(x)"
   ]
  },
  {
   "cell_type": "code",
   "execution_count": 120,
   "metadata": {},
   "outputs": [],
   "source": [
    "class DecoderBlock(nn.Module):\n",
    "    def __init__(self, emb_dim, n_head):\n",
    "        super().__init__()\n",
    "        head_dim = emb_dim // n_head\n",
    "        self.self_attention = MultiHead(n_head, head_dim, emb_dim)\n",
    "        self.feed_forward = FeedForwardNetwork(emb_dim)\n",
    "        self.layer1_norm = nn.LayerNorm(emb_dim)\n",
    "        self.layer2_norm = nn.LayerNorm(emb_dim)\n",
    "    \n",
    "    def forward(self, x):\n",
    "        x = x + self.self_attention(self.layer1_norm(x)) # Pre Layer Norm implementation \n",
    "        x = x + self.feed_forward(self.layer2_norm(x))\n",
    "        return x #(4,8,32) = (batch_size, block_size, emb_dim)\n",
    "\n"
   ]
  },
  {
   "cell_type": "code",
   "execution_count": 118,
   "metadata": {},
   "outputs": [
    {
     "data": {
      "text/plain": [
       "torch.Size([4, 8, 32])"
      ]
     },
     "execution_count": 118,
     "metadata": {},
     "output_type": "execute_result"
    }
   ],
   "source": [
    "block = DecoderBlock(emb_dim, n_head,6)\n",
    "out = block(emb_tokens)\n",
    "out.shape"
   ]
  },
  {
   "cell_type": "code",
   "execution_count": 124,
   "metadata": {},
   "outputs": [],
   "source": [
    "class GPTLanguageModel(nn.Module):\n",
    "    def __init__(self):\n",
    "        super().__init__()\n",
    "        self.token_emb_table = nn.Embedding(vocab_size, emb_dim)\n",
    "        self.pos_emb_table = nn.Embedding(block_size, emb_dim)\n",
    "        self.blocks = nn.Sequential(*[DecoderBlock(emb_dim, n_head) for _ in range(n_layers)])\n",
    "        self.layerFinal_norm = nn.LayerNorm(emb_dim) # Following OpenAIs GPT implementation \n",
    "        self.final_linear = nn.Linear(emb_dim, vocab_size)\n",
    "        self.apply(self._init_weights)\n",
    "\n",
    "    def _init_weights(self, module):\n",
    "        if isinstance(module, nn.Linear):\n",
    "            torch.nn.init.normal_(module.weight, mean=0.0, std=0.02)\n",
    "            if module.bias is not None:\n",
    "                torch.nn.init.zeros_(module.bias)\n",
    "        elif isinstance(module, nn.Embedding):\n",
    "            torch.nn.init.normal_(module.weight, mean=0.0, std=0.02)\n",
    "\n",
    "    def forward(self, inputs, targets=None):\n",
    "        tok_emb = self.token_emb_table(inputs)\n",
    "        pos_emb = self.pos_emb_table(inputs)\n",
    "        \n",
    "\n",
    "\n"
   ]
  }
 ],
 "metadata": {
  "kernelspec": {
   "display_name": "base",
   "language": "python",
   "name": "python3"
  },
  "language_info": {
   "codemirror_mode": {
    "name": "ipython",
    "version": 3
   },
   "file_extension": ".py",
   "mimetype": "text/x-python",
   "name": "python",
   "nbconvert_exporter": "python",
   "pygments_lexer": "ipython3",
   "version": "3.11.7"
  }
 },
 "nbformat": 4,
 "nbformat_minor": 2
}
